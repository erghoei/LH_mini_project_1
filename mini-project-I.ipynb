{
 "cells": [
  {
   "cell_type": "markdown",
   "metadata": {},
   "source": [
    "# Mini-Project I\n",
    "During this project, we will practice handling of complex lists and dictionaries in Python. Plus, we will learn how to work with API documentation. Don't be afraid to search for the information in the [**documentation**](https://api.tfl.gov.uk/swagger/ui/index.html?url=/swagger/docs/v1#!/AccidentStats/AccidentStats_Get).\n",
    "\n",
    "Let's go to the tasks, we have some parsing to do :)!!"
   ]
  },
  {
   "cell_type": "code",
   "execution_count": null,
   "metadata": {},
   "outputs": [],
   "source": []
  },
  {
   "cell_type": "code",
   "execution_count": null,
   "metadata": {},
   "outputs": [],
   "source": [
    "# import packages we need (remember what packages we used yesterday during the API session)\n",
    "# IMPORT HERE"
   ]
  },
  {
   "cell_type": "code",
   "execution_count": 328,
   "metadata": {},
   "outputs": [],
   "source": [
    "import requests\n",
    "import json\n",
    "from IPython.display import JSON"
   ]
  },
  {
   "cell_type": "code",
   "execution_count": null,
   "metadata": {},
   "outputs": [],
   "source": []
  },
  {
   "cell_type": "markdown",
   "metadata": {},
   "source": [
    "## Demo"
   ]
  },
  {
   "cell_type": "code",
   "execution_count": null,
   "metadata": {},
   "outputs": [],
   "source": [
    "# don't forget package os\n",
    "app_id = os.environ[\"<your app id name>\"]\n",
    "app_key = os.environ[\"<your app key name>\"]\n",
    "url_append = f'?app_id={app_id}&app_key={app_key}' "
   ]
  },
  {
   "cell_type": "code",
   "execution_count": null,
   "metadata": {},
   "outputs": [],
   "source": [
    "print(url_append)"
   ]
  },
  {
   "cell_type": "code",
   "execution_count": 329,
   "metadata": {},
   "outputs": [],
   "source": [
    "# URL\n",
    "url_airq = \"https://api.tfl.gov.uk/AirQuality\""
   ]
  },
  {
   "cell_type": "code",
   "execution_count": 330,
   "metadata": {},
   "outputs": [],
   "source": [
    "# We send the request to the API\n",
    "# NOTE: if you don't have your APP_KEY, run this without the url_append\n",
    "res_airq = requests.get(url_airq)"
   ]
  },
  {
   "cell_type": "code",
   "execution_count": 331,
   "metadata": {},
   "outputs": [
    {
     "data": {
      "text/plain": [
       "200"
      ]
     },
     "execution_count": 331,
     "metadata": {},
     "output_type": "execute_result"
    }
   ],
   "source": [
    "# We can check if the request was successful\n",
    "res_airq.status_code"
   ]
  },
  {
   "cell_type": "code",
   "execution_count": 332,
   "metadata": {},
   "outputs": [
    {
     "data": {
      "text/plain": [
       "{'$id': '1',\n",
       " '$type': 'Tfl.Api.Presentation.Entities.LondonAirForecast, Tfl.Api.Presentation.Entities',\n",
       " 'updatePeriod': 'hourly',\n",
       " 'updateFrequency': '1',\n",
       " 'forecastURL': 'http://londonair.org.uk/forecast',\n",
       " 'disclaimerText': 'This forecast is intended to provide information on expected pollution levels in areas of significant public exposure. It may not apply in very specific locations close to unusually strong or short-lived local sources of pollution.',\n",
       " 'currentForecast': [{'$id': '2',\n",
       "   '$type': 'Tfl.Api.Presentation.Entities.CurrentForecast, Tfl.Api.Presentation.Entities',\n",
       "   'forecastType': 'Current',\n",
       "   'forecastID': '31833',\n",
       "   'forecastBand': 'Low',\n",
       "   'forecastSummary': 'Low air pollution forecast valid from Friday 28 May to end of Friday 28 May GMT',\n",
       "   'nO2Band': 'Low',\n",
       "   'o3Band': 'Low',\n",
       "   'pM10Band': 'Low',\n",
       "   'pM25Band': 'Low',\n",
       "   'sO2Band': 'Low',\n",
       "   'forecastText': 'Friday will see the weather continuing to improve, with a dry, bright and sunny day.&lt;br/&gt;&lt;br/&gt;A light breeze may cause some build-up of local emissions, overall air pollution is expected to remain &#39;Low&#39; for the following pollutants:&lt;br/&gt;&lt;br/&gt;&lt;br/&gt;Nitrogen Dioxide&lt;br/&gt;Ozone&lt;br/&gt;PM10 Particulate&lt;br/&gt;PM2.5 Particulate&lt;br/&gt;Sulphur Dioxide&lt;br/&gt;&lt;br/&gt;&lt;br/&gt;&lt;br/&gt;&lt;br/&gt;&lt;br/&gt;&lt;br/&gt;&lt;br/&gt;&lt;br/&gt;'},\n",
       "  {'$id': '3',\n",
       "   '$type': 'Tfl.Api.Presentation.Entities.CurrentForecast, Tfl.Api.Presentation.Entities',\n",
       "   'forecastType': 'Future',\n",
       "   'forecastID': '31845',\n",
       "   'forecastBand': 'Low',\n",
       "   'forecastSummary': 'Low air pollution forecast valid from Saturday 29 May to end of Saturday 29 May GMT',\n",
       "   'nO2Band': 'Low',\n",
       "   'o3Band': 'Low',\n",
       "   'pM10Band': 'Low',\n",
       "   'pM25Band': 'Low',\n",
       "   'sO2Band': 'Low',\n",
       "   'forecastText': 'Weather will continuing to improve, with a dry, bright and sunny day.&lt;br/&gt;&lt;br/&gt;A light breeze may cause some build-up of local emissions, overall air pollution is expected to remain &#39;Low&#39; for the following pollutants:&lt;br/&gt;&lt;br/&gt;&lt;br/&gt;Nitrogen Dioxide&lt;br/&gt;Ozone&lt;br/&gt;PM10 Particulate&lt;br/&gt;PM2.5 Particulate&lt;br/&gt;Sulphur Dioxide&lt;br/&gt;&lt;br/&gt;&lt;br/&gt;&lt;br/&gt;&lt;br/&gt;&lt;br/&gt;&lt;br/&gt;&lt;br/&gt;&lt;br/&gt;'}]}"
      ]
     },
     "execution_count": 332,
     "metadata": {},
     "output_type": "execute_result"
    }
   ],
   "source": [
    "# We can export the information that was returned using method .json()\n",
    "res_airq.json()"
   ]
  },
  {
   "cell_type": "code",
   "execution_count": null,
   "metadata": {},
   "outputs": [],
   "source": []
  },
  {
   "cell_type": "markdown",
   "metadata": {},
   "source": [
    "## Task\n",
    "Parse the dictionary and print the AirQuality predictions for tomorrow"
   ]
  },
  {
   "cell_type": "code",
   "execution_count": 333,
   "metadata": {},
   "outputs": [
    {
     "data": {
      "text/plain": [
       "'Low air pollution forecast valid from Saturday 29 May to end of Saturday 29 May GMT'"
      ]
     },
     "execution_count": 333,
     "metadata": {},
     "output_type": "execute_result"
    }
   ],
   "source": [
    "# Parsing through the request and specifically calling for air quality prediction for tomorrow\n",
    "res_airq.json()['currentForecast'][1]['forecastSummary']"
   ]
  },
  {
   "cell_type": "code",
   "execution_count": null,
   "metadata": {},
   "outputs": [],
   "source": []
  },
  {
   "cell_type": "markdown",
   "metadata": {},
   "source": [
    "## Task\n",
    "What are the different modes of transport which are operated by Transfer for London? How many of modes do they have?\n",
    "\n",
    "Print the list with different modes of transport, plus their count. Example output:\n",
    "```\n",
    "[bus, cable-car,.....]\n",
    "Number of different modes of transport is: xyz\n",
    "```\n",
    "\n",
    "We need to search the documentation for correct request."
   ]
  },
  {
   "cell_type": "code",
   "execution_count": 336,
   "metadata": {},
   "outputs": [
    {
     "data": {
      "text/plain": [
       "200"
      ]
     },
     "execution_count": 336,
     "metadata": {},
     "output_type": "execute_result"
    }
   ],
   "source": [
    "url_modes = \"https://api.tfl.gov.uk/Line/Meta/Modes\"\n",
    "res_modes = requests.get(url_modes)\n",
    "res_modes.status_code"
   ]
  },
  {
   "cell_type": "code",
   "execution_count": null,
   "metadata": {},
   "outputs": [],
   "source": []
  },
  {
   "cell_type": "code",
   "execution_count": 338,
   "metadata": {},
   "outputs": [
    {
     "name": "stdout",
     "output_type": "stream",
     "text": [
      "List of all modes: \n",
      " ['bus', 'cable-car', 'coach', 'cycle', 'cycle-hire', 'dlr', 'interchange-keep-sitting', 'interchange-secure', 'national-rail', 'overground', 'replacement-bus', 'river-bus', 'river-tour', 'taxi', 'tflrail', 'tram', 'tube', 'walking']\n",
      "The number of unique transportation modes is: 18\n"
     ]
    }
   ],
   "source": [
    "list_modes = []\n",
    "\n",
    "def add_modes_list(data):\n",
    "    for i in data:\n",
    "        list_modes.append(i['modeName'])\n",
    "    return\n",
    "\n",
    "add_modes_list(res_modes.json())\n",
    "print('List of all modes:', '\\n', list_modes)\n",
    "print('The number of unique transportation modes is:', len(list_modes))"
   ]
  },
  {
   "cell_type": "code",
   "execution_count": null,
   "metadata": {},
   "outputs": [],
   "source": []
  },
  {
   "cell_type": "markdown",
   "metadata": {},
   "source": [
    "## Task\n",
    "How many BikePoints in London are operated by Transfor for London? How many docks are in **all** BikePoints? There is the information for empty and full docks for each BikePoint."
   ]
  },
  {
   "cell_type": "code",
   "execution_count": 104,
   "metadata": {},
   "outputs": [
    {
     "data": {
      "text/plain": [
       "200"
      ]
     },
     "execution_count": 104,
     "metadata": {},
     "output_type": "execute_result"
    }
   ],
   "source": [
    "url_bp = 'https://api.tfl.gov.uk/BikePoint/'\n",
    "res_bp = requests.get(url_bp)\n",
    "res_bp.status_code"
   ]
  },
  {
   "cell_type": "code",
   "execution_count": 107,
   "metadata": {},
   "outputs": [],
   "source": [
    "bp = res_bp.json()"
   ]
  },
  {
   "cell_type": "code",
   "execution_count": null,
   "metadata": {},
   "outputs": [],
   "source": []
  },
  {
   "cell_type": "code",
   "execution_count": 226,
   "metadata": {},
   "outputs": [
    {
     "name": "stdout",
     "output_type": "stream",
     "text": [
      "The total number of empty and full docks is: 31765\n"
     ]
    }
   ],
   "source": [
    "emp_dock = []\n",
    "\n",
    "def empty_docks(bikepoint):\n",
    "    for i in range(len(bikepoint)):\n",
    "        emp_dock.append(bikepoint[i]['additionalProperties'][7]['value'])\n",
    "    return emp_dock\n",
    "x = empty_docks(bp)\n",
    "\n",
    "full_dock = []\n",
    "\n",
    "def full_docks(bikepoint):\n",
    "    for i in range(len(bikepoint)):\n",
    "        full_dock.append(bikepoint[i]['additionalProperties'][8]['value'])\n",
    "    return full_dock\n",
    "y = full_docks(bp)\n",
    "\n",
    "integer_mapx = map(int, x)\n",
    "integer_listx = list(integer_mapx)\n",
    "a = sum(integer_listx)\n",
    "\n",
    "integer_mapy = map(int, y)\n",
    "integer_listy = list(integer_mapy)\n",
    "b = sum(integer_listy)\n",
    "\n",
    "print('The total number of empty and full docks is:', a + b)"
   ]
  },
  {
   "cell_type": "code",
   "execution_count": null,
   "metadata": {},
   "outputs": [],
   "source": []
  },
  {
   "cell_type": "markdown",
   "metadata": {},
   "source": [
    "## Task\n",
    "How many tube and bus lines are in London? Print names of all tube lines."
   ]
  },
  {
   "cell_type": "code",
   "execution_count": 246,
   "metadata": {},
   "outputs": [],
   "source": [
    "url_buslines = 'https://api.tfl.gov.uk/Line/Route?serviceTypes=Regular'\n",
    "res_buslines = requests.get(url_buslines)\n",
    "buslines = res_buslines.json()\n",
    "\n",
    "url_tubelines = 'https://api.tfl.gov.uk/Line/Route?serviceTypes=Night'\n",
    "res_tubelines = requests.get(url_tubelines)\n",
    "tubelines = res_tubelines.json()"
   ]
  },
  {
   "cell_type": "code",
   "execution_count": 254,
   "metadata": {},
   "outputs": [
    {
     "name": "stdout",
     "output_type": "stream",
     "text": [
      "There are 726 bus lines and 6 tube lines in London!\n"
     ]
    }
   ],
   "source": [
    "print('There are', len(buslines), 'bus lines and', len(tubelines), 'tube lines in London!')"
   ]
  },
  {
   "cell_type": "code",
   "execution_count": 256,
   "metadata": {},
   "outputs": [
    {
     "data": {
      "text/plain": [
       "'Central'"
      ]
     },
     "execution_count": 256,
     "metadata": {},
     "output_type": "execute_result"
    }
   ],
   "source": [
    "tubelines[0]['name']"
   ]
  },
  {
   "cell_type": "code",
   "execution_count": 261,
   "metadata": {},
   "outputs": [
    {
     "name": "stdout",
     "output_type": "stream",
     "text": [
      "Central\n",
      "Jubilee\n",
      "London Overground\n",
      "Northern\n",
      "Piccadilly\n",
      "Victoria\n"
     ]
    }
   ],
   "source": [
    "def tube_names(lines):\n",
    "    for i in range(len(lines)):\n",
    "        print(tubelines[i]['name'])\n",
    "    return\n",
    "tube_names(tubelines)"
   ]
  },
  {
   "cell_type": "markdown",
   "metadata": {},
   "source": [
    "## Task\n",
    "How many station has `victoria` line?"
   ]
  },
  {
   "cell_type": "code",
   "execution_count": 265,
   "metadata": {},
   "outputs": [],
   "source": [
    "url_vict_stat = 'https://api.tfl.gov.uk/Line/victoria/StopPoints'\n",
    "res_vict_stat = requests.get(url_vict_stat)\n",
    "vict_stat = res_vict_stat.json()"
   ]
  },
  {
   "cell_type": "code",
   "execution_count": 269,
   "metadata": {},
   "outputs": [
    {
     "name": "stdout",
     "output_type": "stream",
     "text": [
      "The Victoria line has 16 stations!\n"
     ]
    }
   ],
   "source": [
    "print('The Victoria line has', len(vict_stat), 'stations!')"
   ]
  },
  {
   "cell_type": "markdown",
   "metadata": {},
   "source": [
    "## Task\n",
    "Plan the journey from Heathrow Airport to Tower Bridge using Bus and Tube? Which way is faster? Example output:\n",
    "```\n",
    "Planned duration:\n",
    "Bus: x minutes\n",
    "Tube: y minutes\n",
    "```\n",
    "\n",
    "We need to search the documentation for correct requests and parameters we need."
   ]
  },
  {
   "cell_type": "code",
   "execution_count": 296,
   "metadata": {},
   "outputs": [],
   "source": [
    "url_journey_bus = 'https://api.tfl.gov.uk/Journey/JourneyResults/Hillingdon%2C%20Heathrow%20Airport%20Terminal%202/to/City%20of%20London%2C%20Tower%20Bridge?mode=bus'\n",
    "res_journey_bus = requests.get(url_journey_bus)\n",
    "journey_bus = res_journey_bus.json()"
   ]
  },
  {
   "cell_type": "code",
   "execution_count": 298,
   "metadata": {},
   "outputs": [],
   "source": [
    "url_journey_tube = 'https://api.tfl.gov.uk/Journey/JourneyResults/Hillingdon%2C%20Heathrow%20Airport%20Terminal%202/to/City%20of%20London%2C%20Tower%20Bridge?mode=tube'\n",
    "res_journey_tube = requests.get(url_journey_tube)\n",
    "journey_tube = res_journey_tube.json()"
   ]
  },
  {
   "cell_type": "code",
   "execution_count": 312,
   "metadata": {},
   "outputs": [
    {
     "name": "stdout",
     "output_type": "stream",
     "text": [
      "The time from Heathrow Airport to Tower Bridge is:\n",
      "Bus: 103 minutes\n",
      "Tube: 85 minutes\n"
     ]
    }
   ],
   "source": [
    "def plan_show():\n",
    "    x = journey_bus['journeys'][2]['duration']\n",
    "    y = journey_tube['journeys'][2]['duration']\n",
    "    print('The time from Heathrow Airport to Tower Bridge is:')\n",
    "    print('Bus:', x, 'minutes')\n",
    "    print('Tube:', y, 'minutes')\n",
    "    return\n",
    "plan_show()"
   ]
  },
  {
   "cell_type": "code",
   "execution_count": null,
   "metadata": {},
   "outputs": [],
   "source": []
  },
  {
   "cell_type": "code",
   "execution_count": null,
   "metadata": {},
   "outputs": [],
   "source": []
  }
 ],
 "metadata": {
  "kernelspec": {
   "display_name": "Python 3",
   "language": "python",
   "name": "python3"
  },
  "language_info": {
   "codemirror_mode": {
    "name": "ipython",
    "version": 3
   },
   "file_extension": ".py",
   "mimetype": "text/x-python",
   "name": "python",
   "nbconvert_exporter": "python",
   "pygments_lexer": "ipython3",
   "version": "3.8.5"
  }
 },
 "nbformat": 4,
 "nbformat_minor": 4
}
